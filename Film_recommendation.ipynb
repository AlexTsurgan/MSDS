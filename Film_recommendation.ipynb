{
 "cells": [
  {
   "cell_type": "code",
   "execution_count": 1,
   "metadata": {},
   "outputs": [],
   "source": [
    "def discussability(movie, friend_views):\n",
    "    cnt = 0\n",
    "    for views in friend_views:\n",
    "        if movie in views:\n",
    "            cnt += 1\n",
    "    return cnt\n",
    "\n",
    "def distance(movie1, movie2, similaritites):\n",
    "    distance = 0\n",
    "\n",
    "    current = {movie1}\n",
    "    used = set()\n",
    "    while current:\n",
    "        if movie2 in current:\n",
    "            return distance\n",
    "        else:\n",
    "            distance += 1\n",
    "            used |= current\n",
    "            current = ({x[0] for x in similaritites if x[1] in current} |\n",
    "                {x[1] for x in similaritites if x[0] in current}) - used\n",
    "    return float('inf')\n",
    "\n",
    "def uniqueness(movie, similaritites, friend_views):\n",
    "    similar_movies = {x[0] for x in similaritites if x[1] == movie} | \\\n",
    "        {x[1] for x in similaritites if x[0] == movie}\n",
    "    summa = 0\n",
    "    for views in friend_views:\n",
    "        summa += len(views & similar_movies)\n",
    "    return len(friend_views) / summa if summa else float('inf')\n",
    "\n",
    "def uniqueness_float(movie, similaritites, friend_views):\n",
    "    summa = 0\n",
    "    for views in friend_views:\n",
    "        for x in views:\n",
    "            if x != movie:\n",
    "                summa += 1 / distance(movie, x, similaritites)\n",
    "    return len(friend_views) / summa if summa else float('inf')\n",
    "\n",
    "def recomend(movies, similaritites, friend_views):\n",
    "    recomend = None\n",
    "    quality = 0\n",
    "    if len(similaritites) * len(friend_views) > 100000:\n",
    "        uniqueness_func = uniqueness\n",
    "    else:\n",
    "        uniqueness_func = uniqueness_float\n",
    "        \n",
    "    for movie in movies:\n",
    "        q = discussability(movie, friend_views) * uniqueness_func(movie, similaritites, friend_views)\n",
    "        if recomend is None or q > quality:\n",
    "            quality = q\n",
    "            recomend = movie\n",
    "    return recomend"
   ]
  },
  {
   "cell_type": "code",
   "execution_count": 5,
   "metadata": {},
   "outputs": [
    {
     "name": "stdout",
     "output_type": "stream",
     "text": [
      "Terminator 3.75\n",
      "Star Wars 3.0\n",
      "Back To The Future 2.5\n",
      "Kin-Dza-Dza 4.0\n",
      "Robocop 2.5\n",
      "Mimino 1.8181818181818181\n",
      "Recomended movie: Kin-Dza-Dza\n"
     ]
    }
   ],
   "source": [
    "movies = ['Terminator', 'Star Wars', 'Back To The Future', 'Kin-Dza-Dza', 'Robocop', 'Mimino']\n",
    "similaritites = [\n",
    "#    ('Terminator', 'Star Wars'),\n",
    "    ('Star Wars', 'Kin-Dza-Dza'),\n",
    "    ('Terminator', 'Back To The Future'),\n",
    "    ('Robocop', 'Terminator'),\n",
    "    ('Kin-Dza-Dza', 'Mimino')\n",
    "]\n",
    "\n",
    "f1 = set(movies)\n",
    "f2 = {'Terminator', 'Star Wars', 'Kin-Dza-Dza'}\n",
    "f3 = {'Terminator', 'Robocop', 'Kin-Dza-Dza'}\n",
    "f4 = {'Mimino', 'Kin-Dza-Dza'}\n",
    "f5 = {'Back To The Future', 'Star Wars'}\n",
    "friend_views = [f1, f2, f3, f4, f5]\n",
    "\n",
    "for movie in movies:\n",
    "    print(movie, discussability(movie, friend_views) * uniqueness_float(movie, similaritites, friend_views))\n",
    "print('Recomended movie:', recomend(movies, similaritites, friend_views))"
   ]
  },
  {
   "cell_type": "code",
   "execution_count": null,
   "metadata": {},
   "outputs": [],
   "source": []
  }
 ],
 "metadata": {
  "kernelspec": {
   "display_name": "Python 3",
   "language": "python",
   "name": "python3"
  },
  "language_info": {
   "codemirror_mode": {
    "name": "ipython",
    "version": 3
   },
   "file_extension": ".py",
   "mimetype": "text/x-python",
   "name": "python",
   "nbconvert_exporter": "python",
   "pygments_lexer": "ipython3",
   "version": "3.7.4"
  }
 },
 "nbformat": 4,
 "nbformat_minor": 2
}
